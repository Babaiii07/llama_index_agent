{
 "cells": [
  {
   "cell_type": "code",
   "execution_count": 100,
   "metadata": {},
   "outputs": [
    {
     "data": {
      "text/plain": [
       "True"
      ]
     },
     "execution_count": 100,
     "metadata": {},
     "output_type": "execute_result"
    }
   ],
   "source": [
    "from llama_index.core.agent import ReActAgent\n",
    "from llama_index.llms.groq import Groq\n",
    "from llama_index.core.llms import ChatMessage\n",
    "from llama_index.core.tools import BaseTool, FunctionTool\n",
    "from llama_index.tools.tavily_research.base import TavilyToolSpec\n",
    "import os\n",
    "from dotenv import load_dotenv\n",
    "load_dotenv()"
   ]
  },
  {
   "cell_type": "code",
   "execution_count": 101,
   "metadata": {},
   "outputs": [],
   "source": [
    "search = TavilyToolSpec(api_key=\"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\")\n",
    "def search_tool(prompt:str)->list:\n",
    "    \"return only search result from the web\"\n",
    "    results = search.search(prompt)\n",
    "    return [result.text for result in results]\n",
    "search_toolkit = FunctionTool.from_defaults(fn=search_tool)"
   ]
  },
  {
   "cell_type": "code",
   "execution_count": 102,
   "metadata": {},
   "outputs": [],
   "source": [
    "def add(a: int, b: int) -> int:\n",
    "    \"\"\"Add two integers and returns the result integer\"\"\"\n",
    "    return a + b\n",
    "\n",
    "\n",
    "add_tool = FunctionTool.from_defaults(fn=add)"
   ]
  },
  {
   "cell_type": "code",
   "execution_count": 103,
   "metadata": {},
   "outputs": [],
   "source": [
    "def sub(a: int, b: int) -> int:\n",
    "    \"\"\"Substract two integers and returns the result integer\"\"\"\n",
    "    return a - b\n",
    "\n",
    "\n",
    "sub_tool = FunctionTool.from_defaults(fn=sub)"
   ]
  },
  {
   "cell_type": "code",
   "execution_count": 105,
   "metadata": {},
   "outputs": [],
   "source": [
    "llm = Groq(model=\"gemma2-9b-it\")\n",
    "agent = ReActAgent.from_tools([search_toolkit,add_tool,sub_tool], llm=llm, verbose=True)"
   ]
  },
  {
   "cell_type": "code",
   "execution_count": 111,
   "metadata": {},
   "outputs": [
    {
     "name": "stdout",
     "output_type": "stream",
     "text": [
      "> Running step d84bd8c4-ac6f-4e8e-8ce0-4bb209e0d2cd. Step input: tell me the Current Tempareture in Kolkata?\n",
      "\u001b[1;3;38;5;200mThought: I need to use the search_tool to find the current temperature in Kolkata.\n",
      "Action: search_tool\n",
      "Action Input: {'prompt': 'What is the current temperature in Kolkata?'}\n",
      "\u001b[0m\u001b[1;3;34mObservation: [\"Today's temperature in Kolkata is 34°c. Day's maximum temperature would hover at 34°c, while minimum temperature is predicted to be 26°c.\", 'TodayHourly14 DaysPastClimate. Now 82 °F. Passing clouds. Feels Like: 91 °F Forecast: 95 / 76 °F Wind: 5 mph ↑ from West. Location: Calcutta / Dum Dum. Current', 'Current Weather\\n6:12 PM\\n81°F\\nClear\\nRealFeel® 82°\\nVery Warm\\nRealFeel Guide\\nVery Warm\\n82° to 89°\\nOlder adults, infants, and those with sensitive medical conditions should minimize outdoor activity, especially in the sunshine.\\nLEARN MORE\\nRealFeel®\\n82°\\nWind\\nSW 1 mph\\nWind Gusts\\n1 mph\\nHumidity\\n58%\\nIndoor Humidity\\n58% (Humid)\\nDew Point\\n65° F\\nPressure\\n↔ 29.85 in\\nCloud Cover\\n0%\\nVisibility\\n6 mi\\nCloud Ceiling\\n40000 ft\\nDay\\n2/10\\n87°Hi\\nRealFeel® 92°\\nHot\\nRealFeel Guide\\nHot\\n90° to 100° [...] Rise 3:25 PM\\nSet 5:21 AM\\nTemperature History\\n2/10\\nHigh\\nLow\\nForecast\\n87°\\n68°\\nAverage\\n83°\\n58°\\nLast Year\\n79°\\n57°\\nFurther Ahead [...] Kolkata, West Bengal, India Current Weather | AccuWeather\\nGo Back\\nKolkata, West Bengal ==================== 81°F\\nLocation \\nLocation News Videos\\nUse Current Location\\nRecent\\nKolkata West Bengal 81°\\nNo results found.\\nTry searching for a city, zip code or point of interest.\\n\\nsettings\\nKolkata, West Bengal Weather\\nToday WinterCast Local {stormName} Tracker Hourly Daily Radar MinuteCast Monthly Air Quality Health & Activities\\nAround the Globe', \"Today 2/10  87° 68° Hazy Night: Hazy 0%Tue 2/11  89° 70° Hazy Hazy 0%Wed 2/12  90° 68° Hazy and very warm Mostly cloudy 1%Thu 2/13  89° 66° Hazy Hazy 0%Fri 2/14  85° 62° Hazy and less humid Hazy 0%Sat 2/15  86° 65° Hazy Hazy 0%Sun 2/16  88° 67° Hazy Hazy 0%Mon 2/17  88° 72° Hazy Hazy 0%Tue 2/18  92° 71° Mostly sunny and hot Clear 0%Wed 2/19  90° 70° Sunshine and less humid Clear 1%\\nSun & Moon\\n 11 hrs 18 mins\\nRise 6:12 AM\\nSet 5:30 PM\\n Waxing Gibbous\\nRise 3:25 PM\\nSet 5:21 AM [...] Today's Weather --------------- Mon, Feb 10 Hazy; air quality will be very unhealthy Hi: 87° Tonight: Hazy; air quality will be very unhealthy Lo: 68°\\nCurrent Weather --------------- 6:12 PM 81°F RealFeel® 82° Clear More Details Wind SW 1 mph Wind Gusts 1 mph Air Quality Unhealthy\\nKolkata Weather Radar & Maps\\n Static Radar Temporarily Unavailable Thank you for your patience as we work to get everything up and running again. Refresh Page\\n Clouds  Temperature\\nHourly Weather [...] 7 PM  78°  0%8 PM  75°  0%9 PM  73°  0%10 PM  71°  0%11 PM  70°  0%12 AM  70°  0%1 AM  70°  0%2 AM  70°  0%3 AM  70°  0%4 AM  71°  0%5 AM  70°  0%6 AM  71°  0%\\n10-Day Weather Forecast\", 'Weather TodayWeather Hourly14 Day ForecastYesterday/Past WeatherClimate (Averages)\\nCurrently: 84\\xa0°F. Haze. (Weather station: Calcutta / Dum Dum, India). See more current weather\\n×\\nKolkata Extended Forecast with high and low temperatures\\n°F\\nLast 2 weeks of weather\\nSee weather overview\\n2 Week Extended Forecast in Kolkata, West Bengal, India\\nScroll right to see more\\n| \\xa0 | Conditions | Comfort | Precipitation | Sun |\\n| --- | --- | --- | --- | --- | [...] Feb 24 |  | 97 / 73\\xa0°F | Sunny. | 93\\xa0°F | 5 mph | ↑ | 20% | 3% | - | 7 (High) | 6:01 am | 5:37 pm |\\n| * Updated Monday, February 10, 2025 2:54:17 pm Kolkata time - Weather by CustomWeather, © 2025 |\\nHour-by-hour weather for Kolkata next 7 days\\nNeed some help?\\nAdvertising\\nHow was your experience? Thank you for your feedback\\nContact Us [...] | Day | \\xa0 | Temperature | Weather | Feels Like | Wind | \\xa0 | Humidity | Chance | Amount | UV | Sunrise | Sunset |\\n| --- | --- | --- | --- | --- | --- | --- | --- | --- | --- | --- | --- | --- |\\n| Mon\\nFeb 10 |  | 86 / 61\\xa0°F | Sunny. | 83\\xa0°F | 4 mph | ↑ | 35% | 0% | - | 5 (Moderate) | 6:11 am | 5:30 pm |\\n| Tue\\nFeb 11 |  | 90 / 67\\xa0°F | Sunny. | 87\\xa0°F | 7 mph | ↑ | 34% | 0% | - | 5 (Moderate) | 6:10 am | 5:30 pm |\\n| Wed', \"Today's Weather Report (Reported on 0830 IST) ; Kolkata-Salt Lake, 34.1 (17/03), --, 26.2, 3.6\"]\n",
      "\u001b[0m> Running step 32f25527-8575-4dd2-9547-efe90654f010. Step input: None\n",
      "\u001b[1;3;38;5;200mThought: The search_tool returned multiple results, but the most relevant one is \"Today's temperature in Kolkata is 34°c\".\n",
      "Answer: The current temperature in Kolkata is 34°c.\n",
      "\u001b[0m"
     ]
    }
   ],
   "source": [
    "response = agent.chat(\"tell me the Current Tempareture in Kolkata?\")"
   ]
  },
  {
   "cell_type": "code",
   "execution_count": null,
   "metadata": {},
   "outputs": [],
   "source": []
  }
 ],
 "metadata": {
  "kernelspec": {
   "display_name": "Python 3",
   "language": "python",
   "name": "python3"
  },
  "language_info": {
   "codemirror_mode": {
    "name": "ipython",
    "version": 3
   },
   "file_extension": ".py",
   "mimetype": "text/x-python",
   "name": "python",
   "nbconvert_exporter": "python",
   "pygments_lexer": "ipython3",
   "version": "3.10.0"
  }
 },
 "nbformat": 4,
 "nbformat_minor": 2
}
